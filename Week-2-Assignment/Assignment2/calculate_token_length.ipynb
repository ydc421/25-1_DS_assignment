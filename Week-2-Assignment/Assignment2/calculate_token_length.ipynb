{
 "cells": [
  {
   "cell_type": "code",
   "execution_count": null,
   "metadata": {
    "vscode": {
     "languageId": "plaintext"
    }
   },
   "outputs": [],
   "source": [
    "import re\n",
    "from transformers import AutoTokenizer\n",
    "\n",
    "# GPT-2 토크나이저 초기화\n",
    "tokenizer = AutoTokenizer.from_pretrained(\"meta-llama/Llama-3.2-3B\")\n",
    "\n",
    "def extract_answer_token_length(text):\n",
    "    \"\"\"\n",
    "    주어진 텍스트에서 \"A:\" 이후의 텍스트를 추출하고,\n",
    "    해당 부분의 토큰 길이를 반환합니다.\n",
    "    \"\"\"\n",
    "    match = re.search(r\"A:\\s*(.*)\", text, re.DOTALL)\n",
    "    if match:\n",
    "        answer_text = match.group(1).strip()\n",
    "        tokens = tokenizer.tokenize(answer_text)\n",
    "        token_count = len(tokens)\n",
    "        return answer_text, token_count\n",
    "    else:\n",
    "        return None, 0\n",
    "\n",
    "# 텍스트 파일 읽기 (예시 파일명: data.txt)\n",
    "with open(\"cqa/cqa_vanilla_10/cqa_vanilla_10_0/correcnt_data.txt\", \"r\", encoding=\"utf-8\") as file:\n",
    "    content = file.read()\n",
    "\n",
    "# 각 데이터 블록은 \"<|end_of_text|>\" 로 구분되어 있다고 가정\n",
    "blocks = content.split(\"<|end_of_text|>\")\n",
    "\n",
    "max_token_length = 0  # 전체 블록 중 최대 토큰 개수를 저장할 변수\n",
    "max_sentence=''\n",
    "gen_length=0\n",
    "\n",
    "for i, block in enumerate(blocks):\n",
    "    # \"A:\" 이후 텍스트와 토큰 수 계산\n",
    "    answer_text, answer_token_count = extract_answer_token_length(block)\n",
    "    # 블록 전체의 토큰 수 계산\n",
    "    block_tokens = tokenizer.tokenize(block)\n",
    "    block_token_count = len(block_tokens)    \n",
    "    \n",
    "    # 최대 토큰 개수 갱신\n",
    "    if block_token_count > max_token_length:\n",
    "        max_token_length = block_token_count\n",
    "        gen_length=answer_token_count\n",
    "        max_sentence=answer_text\n",
    "\n",
    "print(\"전체 블록 중 최대 토큰 개수 (max token length):\", max_token_length)\n",
    "print(\"전체 블록 중 최대 생성토큰 개수 (gen_length):\", gen_length)\n",
    "print(\"전체 블록 중 최대 토큰 결과 (max_sentence):\", max_sentence)\n"
   ]
  },
  {
   "cell_type": "code",
   "execution_count": null,
   "metadata": {
    "vscode": {
     "languageId": "plaintext"
    }
   },
   "outputs": [],
   "source": []
  }
 ],
 "metadata": {
  "language_info": {
   "name": "python"
  }
 },
 "nbformat": 4,
 "nbformat_minor": 2
}
